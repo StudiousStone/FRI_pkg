{
 "cells": [
  {
   "cell_type": "code",
   "execution_count": null,
   "metadata": {},
   "outputs": [],
   "source": [
    "from __future__ import division\n",
    "import datetime\n",
    "import time\n",
    "import os\n",
    "import sys\n",
    "\n",
    "import numpy as np\n",
    "from scipy import linalg\n",
    "from matplotlib import rcParams\n",
    "import matplotlib.pyplot as plt\n",
    "\n",
    "sys.path.append('../')\n",
    "from alg_tools_1d import dirac_recon_time, periodicSinc, distance\n",
    "\n",
    "# various experiment settings\n",
    "stop_cri = 'max_iter'  # stopping criteria: 1) mse; or 2) max_iter"
   ]
  },
  {
   "cell_type": "code",
   "execution_count": null,
   "metadata": {},
   "outputs": [],
   "source": [
    "def plot_dirac(tk, ak, color='red', marker='*', ax=None, label=''):\n",
    "    if ax is None:\n",
    "        fig = plt.figure()\n",
    "        ax = plt.gca()\n",
    "    markerline211_1, stemlines211_1, baseline211_1 = \\\n",
    "        ax.stem(tk, ak, label=label)\n",
    "    plt.setp(stemlines211_1, linewidth=1.5, color=color)\n",
    "    plt.setp(markerline211_1, marker=marker, linewidth=1.5, markersize=8,\n",
    "             markerfacecolor=color, mec=color)\n",
    "    plt.setp(baseline211_1, linewidth=0)\n",
    "    plt.xlim([0, tau])\n",
    "    \n",
    "def plot_diracs(ax1, tk, ak, tk_recon, ak_recon, title):\n",
    "    c1 = [0, 0.447, 0.741]\n",
    "    m1 ='^'\n",
    "    plot_dirac(tk, ak, c1, m1, ax=ax1, label='Original Diracs')\n",
    "    \n",
    "    c2 = [0.850, 0.325, 0.098]\n",
    "    m2 = '*'\n",
    "    plot_dirac(tk_recon, ak_recon, c2, m2, ax=ax1, label='Estimated Diracs')\n",
    "\n",
    "    plt.axhline(0, color='k')\n",
    "    plt.ylim([1.17 * np.min(np.concatenate((ak, ak_recon, np.array(0)[np.newaxis]))),\n",
    "              1.17 * np.max(np.concatenate((ak, ak_recon, np.array(0)[np.newaxis])))])\n",
    "    plt.ylabel('amplitudes', fontsize=12)\n",
    "    ax1.yaxis.set_label_coords(-0.095, 0.5)\n",
    "    plt.legend(numpoints=1, loc=0, fontsize=9, framealpha=0.3,\n",
    "               handletextpad=.2, columnspacing=0.6, labelspacing=0.05, ncol=2)\n",
    "    plt.title(title, fontsize=12)"
   ]
  },
  {
   "cell_type": "markdown",
   "metadata": {},
   "source": [
    "# Overview \n",
    "\n",
    "This notebook explains how to reconstruct a signal consisting of a $\\tau$-periodic stream of Diracs at unknown locations. We will apply the following standard FRI-based workflow. \n",
    "\n",
    "## 1. Generate signal\n",
    "\n",
    "We generate the FRI signal which we will then try reconstruct:\n",
    "\n",
    "<br><center>\n",
    "$ x = \\sum_{k' \\in \\mathbb{Z}} \\sum_{k=1}^{K}  \\alpha_k \\delta(t - t_k - k' \\tau ) $ (1) \n",
    "</center>\n",
    "\n",
    "*CODE: Inspect the signal and make sure you understand its parameters.*\n",
    "\n",
    "## 2. Simulate measurements\n",
    "\n",
    "We simulate measurements by constructing a non-uniformly sampled, low-pass filtered signal, and add measurement noise. Mathematically, we measure a discrete signal $y_l$ with elements \n",
    "\n",
    "$$ y_l = \\sum_{k=1}^{K} \\alpha_k \\phi(t_l' - t_k), $$ \n",
    "\n",
    "where $ \\phi $ is the Dirichlet kernel $ \\phi(t) = \\frac{sin(\\pi B t)}{B \\tau sin(\\pi t / \\tau)} $ and $ B $ is the bandwith of the ideal lowpass filter. \n",
    " \n",
    "## 3. Find standard form of signal\n",
    "\n",
    "Since the signal it is FRI, we know that we can find a representation of the standard form:\n",
    "\n",
    "<br><center>\n",
    "$ \\hat{x}_m = \\sum_{k=1}^{K} \\beta_k  u_k^m $ (2) \n",
    "</center>\n",
    "\n",
    "*PEN AND PAPER: Find values of $\\beta_k$ and $u_k$*. \n",
    "\n",
    "Since the above holds, we know that the signal can be anihilated by a filter $h$. \n",
    "\n",
    "*OPTIONAL: Show that for this simple example, this filter is given by*\n",
    "\n",
    "$$ H(z) = c_0 \\prod_{k=1}^K (1 - e^{-j\\frac{2 \\pi}{\\tau} t_k} z^{-1}) $$\n",
    "\n",
    "## 4. Find and implement $ G $ \n",
    "\n",
    "Since we can only measure y and not Once the signal is in form of 2, we need to identify how it is related to measurements y. \n",
    "\n",
    "*PEN AND PAPER: find the expression of matrix X such that $ G \\hat{x} = y$*\n",
    "\n",
    "\n",
    "## 5. Solve optimization\n",
    "\n",
    "Now we have all the ingredients to solve the optimization of the form: \n",
    "\n",
    "<center>\n",
    "find $ \\hat{x}, h $ \n",
    "</center>\n",
    "\n",
    "<center>\n",
    "such that $ || y - G \\hat{x} ||_2 \\leq \\epsilon $\n",
    "</center>\n",
    "\n",
    "<center>\n",
    "and $ x * h = 0 $\n",
    "</center>\n",
    "\n",
    "*CODE: you do not have to implement this part, just inspect the obtained solution and make sure it is correct.*\n",
    "\n",
    "## 6. Reconstruct original signal\n",
    "\n",
    "Now that we have extracted the locations of the signal, what would you do to find the signal's amplitudes?  "
   ]
  },
  {
   "cell_type": "markdown",
   "metadata": {},
   "source": [
    "## 1. "
   ]
  },
  {
   "cell_type": "code",
   "execution_count": null,
   "metadata": {},
   "outputs": [],
   "source": [
    "np.random.seed(7)\n",
    "\n",
    "K = 5  # number of Diracs\n",
    "tau = 1  # period of the Dirac stream\n",
    "\n",
    "# amplitudes of the Diracs\n",
    "ak = np.sign(np.random.randn(K)) * (1 + (np.random.rand(K) - 0.5) / 1.)\n",
    "\n",
    "# locations of the Diracs\n",
    "tk = np.random.rand(K) * tau\n",
    "\n",
    "plot_dirac(tk, ak)"
   ]
  },
  {
   "cell_type": "markdown",
   "metadata": {},
   "source": [
    "## 2."
   ]
  },
  {
   "cell_type": "code",
   "execution_count": null,
   "metadata": {},
   "outputs": [],
   "source": [
    "np.random.seed(7)\n",
    "\n",
    "def phi(t):\n",
    "    ''' Dirichlet kernel evaluated at t.\n",
    "    '''\n",
    "    numerator = np.sin(np.pi * B * t)\n",
    "    denominator = B * tau * np.sin(np.pi * t / tau)\n",
    "    \n",
    "    idx = np.abs(denominator) < 1e-12\n",
    "    \n",
    "    # TODO WHY? \n",
    "    numerator[idx] = np.cos(np.pi * B * t[idx])\n",
    "    denominator[idx] = np.cos(np.pi * t[idx] / tau)\n",
    "    \n",
    "    return numerator / denominator\n",
    "\n",
    "M = 4 * K # number of Fourier samples (at least K)\n",
    "# TODO WHY?\n",
    "B = (2. * M + 1.) / tau  # bandwidth of the sampling filter\n",
    "# TODO WHY?\n",
    "L = (2 * M + 1) # number of time samples\n",
    "\n",
    "# measured signal\n",
    "t_samp = np.random.rand(L) * tau\n",
    "tl_grid, tk_grid = np.meshgrid(tk, t_samp)\n",
    "y_ell_samp = np.inner(ak, phi(tl_grid - tk_grid))\n",
    "\n",
    "# continuous signal (for plotting only)\n",
    "t_continuous = np.linspace(0, tau, 1000)\n",
    "tl_grid, tk_grid = np.meshgrid(tk, t_continuous)\n",
    "y_ell_continuous = np.inner(ak, phi(tl_grid - tk_grid))\n",
    "\n",
    "## generate noisy signal\n",
    "sigma_noise = 1e-2\n",
    "#sigma_noise = 0\n",
    "\n",
    "noise = np.random.normal(scale=sigma_noise, loc=0, size=y_ell_samp.shape)\n",
    "y_ell = y_ell_samp + noise\n",
    "\n",
    "plt.figure()\n",
    "plt.plot(t_continuous, y_ell_continuous)\n",
    "plt.plot(t_samp, y_ell_samp, 'r*', label='samples')\n",
    "plt.plot(t_samp, y_ell, 'g*', label='noisy samples')\n",
    "plt.xlabel('t')\n",
    "plt.legend()"
   ]
  },
  {
   "cell_type": "markdown",
   "metadata": {},
   "source": [
    "## 3.  "
   ]
  },
  {
   "cell_type": "code",
   "execution_count": null,
   "metadata": {},
   "outputs": [],
   "source": [
    "def get_standard_form(ak, tk):\n",
    "    ''' \n",
    "    :param ak: vector of Dirac amplitudes\n",
    "    :param tk: vector of Dirac locations\n",
    "\n",
    "    :return: vector of standard form coefficients\n",
    "    '''\n",
    "    ms = np.arange(-np.floor(B * tau / 2.), 1 + np.floor(B * tau / 2.))\n",
    "    tk_grid, m_grid_gt = np.meshgrid(tk, ms)\n",
    "    \n",
    "    x_hat = 1. / tau * np.dot(np.exp(-2j * np.pi / tau * m_grid_gt * tk_grid), ak)\n",
    "    return x_hat\n",
    "\n",
    "x_hat = get_standard_form(ak, tk)"
   ]
  },
  {
   "cell_type": "markdown",
   "metadata": {},
   "source": [
    "## 4. "
   ]
  },
  {
   "cell_type": "code",
   "execution_count": null,
   "metadata": {},
   "outputs": [],
   "source": [
    "def get_G(t_samp):\n",
    "    '''\n",
    "    Compute G such that y=Gx\n",
    "    \n",
    "    :param t_samp: \n",
    "    \n",
    "    '''\n",
    "    m_grid, t_samp_grid = np.meshgrid(np.arange(-np.floor(B * tau / 2.), 1 + np.floor(B * tau / 2.)), t_samp)\n",
    "    G = 1. / B * np.exp(2j * np.pi / tau * m_grid * t_samp_grid)\n",
    "    return G\n",
    "\n",
    "G = get_G(t_samp)\n",
    "\n",
    "## generate noiseless signal\n",
    "y_ell_test = np.real(np.dot(G, x_hat))\n",
    "\n",
    "assert np.isclose(y_ell_samp, y_ell_test).all()"
   ]
  },
  {
   "cell_type": "markdown",
   "metadata": {},
   "source": [
    "## 5."
   ]
  },
  {
   "cell_type": "code",
   "execution_count": null,
   "metadata": {},
   "outputs": [],
   "source": [
    "# noise energy, in the noiseless case 1e-10 is considered as 0\n",
    "noise_level = np.max([1e-10, linalg.norm(noise)])\n",
    "max_ini = 100  # maximum number of random initialisations\n",
    "xhat_recon, min_error, c_opt, ini = dirac_recon_time(G, y_ell, K, noise_level, max_ini, stop_cri)\n",
    "\n",
    "print(r'Noise level: {0:.2e}'.format(noise_level))\n",
    "print(r'Minimum approximation error |a - Gb|_2: {0:.2e}'.format(min_error))"
   ]
  },
  {
   "cell_type": "markdown",
   "metadata": {},
   "source": [
    "## 6."
   ]
  },
  {
   "cell_type": "code",
   "execution_count": null,
   "metadata": {},
   "outputs": [],
   "source": [
    "# reconstruct times from filter\n",
    "\n",
    "## TODO why? \n",
    "z = np.roots(c_opt)\n",
    "z = z / np.abs(z)\n",
    "tk_recon = np.real(tau * 1j / (2 * np.pi) * np.log(z))\n",
    "tk_recon = np.sort(tk_recon - np.floor(tk_recon / tau) * tau)\n",
    "\n",
    "# location estimation error\n",
    "t_error = distance(tk_recon, tk)[0]\n",
    "print('location error:', t_error)"
   ]
  },
  {
   "cell_type": "code",
   "execution_count": null,
   "metadata": {},
   "outputs": [],
   "source": [
    "# reconstruct amplitudes ak\n",
    "\n",
    "Phi_han = periodicSinc(np.pi * B * (np.reshape(t_samp, (-1, 1), order='F') -\n",
    "                                      np.reshape(tk_recon, (1, -1), order='F')),\n",
    "                         B * tau)\n",
    "\n",
    "tl_grid, tk_grid = np.meshgrid(tk_recon, t_samp)\n",
    "Phi_recon = phi(tl_grid - tk_grid)\n",
    "\n",
    "assert np.isclose(Phi_han, Phi_recon).all()\n",
    "\n",
    "ak_recon = np.real(linalg.lstsq(Phi_recon, y_ell)[0])\n",
    "a_error = distance(ak_recon, ak)[0]\n",
    "print('amplitude error:', t_error)"
   ]
  },
  {
   "cell_type": "code",
   "execution_count": null,
   "metadata": {},
   "outputs": [],
   "source": [
    "fig = plt.figure(num=1, figsize=(5.5, 2.5), dpi=90)\n",
    "ax1 = plt.axes([0.125, 0.59, 0.85, 0.31])\n",
    "\n",
    "t_error_pow = np.int(np.floor(np.log10(t_error)))\n",
    "title = 'reconstructed vs. original signal'\n",
    "plot_diracs(ax1, tk, ak, tk_recon, ak_recon, title)"
   ]
  }
 ],
 "metadata": {
  "kernelspec": {
   "display_name": "Python 3",
   "language": "python",
   "name": "python3"
  },
  "language_info": {
   "codemirror_mode": {
    "name": "ipython",
    "version": 3
   },
   "file_extension": ".py",
   "mimetype": "text/x-python",
   "name": "python",
   "nbconvert_exporter": "python",
   "pygments_lexer": "ipython3",
   "version": "3.5.2"
  }
 },
 "nbformat": 4,
 "nbformat_minor": 2
}
